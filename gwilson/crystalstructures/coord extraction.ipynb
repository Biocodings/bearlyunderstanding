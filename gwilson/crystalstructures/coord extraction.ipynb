{
 "cells": [
  {
   "cell_type": "code",
   "execution_count": 13,
   "metadata": {
    "collapsed": false
   },
   "outputs": [
    {
     "name": "stdout",
     "output_type": "stream",
     "text": [
      "Once deleted, variables cannot be recovered. Proceed (y/[n])? y\n"
     ]
    },
    {
     "name": "stderr",
     "output_type": "stream",
     "text": [
      "C:\\Users\\Ekpyrotic\\Anaconda3\\lib\\site-packages\\Bio\\PDB\\StructureBuilder.py:85: PDBConstructionWarning: WARNING: Chain A is discontinuous at line 3535.\n",
      "  PDBConstructionWarning)\n",
      "C:\\Users\\Ekpyrotic\\Anaconda3\\lib\\site-packages\\Bio\\PDB\\StructureBuilder.py:85: PDBConstructionWarning: WARNING: Chain B is discontinuous at line 3749.\n",
      "  PDBConstructionWarning)\n",
      "C:\\Users\\Ekpyrotic\\Anaconda3\\lib\\site-packages\\Bio\\PDB\\StructureBuilder.py:85: PDBConstructionWarning: WARNING: Chain C is discontinuous at line 3826.\n",
      "  PDBConstructionWarning)\n"
     ]
    }
   ],
   "source": [
    "%reset \n",
    "import Bio.PDB\n",
    "import numpy as np\n",
    "import pandas as pd\n",
    "\n",
    "#pdb_code = \"HLA_A2_1\"\n",
    "#pdb_filename = \"HLA_A2_1.pdb\" \n",
    "\n",
    "#pdb_code = \"HLA_B5_801\"\n",
    "#pdb_filename = \"HLA_B5_801.pdb\" \n",
    "\n",
    "\n",
    "pdb_code = \"HLA_B5_701\"\n",
    "pdb_filename = \"HLA_B5_701.pdb\" \n",
    "\n",
    "structure = Bio.PDB.PDBParser().get_structure(pdb_code, pdb_filename)\n",
    "model = structure[0]"
   ]
  },
  {
   "cell_type": "code",
   "execution_count": 17,
   "metadata": {
    "collapsed": false
   },
   "outputs": [
    {
     "name": "stdout",
     "output_type": "stream",
     "text": [
      "1152\n"
     ]
    }
   ],
   "source": [
    "#difference between two alpha carbons\n",
    "def calc_residue_dist(coord_one, coord_two) :\n",
    "    diff_vector  = coord_one- coord_two\n",
    "    return np.sqrt(np.sum(diff_vector * diff_vector))\n",
    "\n",
    "def calc_dist_matrix(model) :\n",
    "    alphanum = 0\n",
    "    residuelist = model.get_residues()\n",
    "    coords = np.zeros([1,3])\n",
    "    for res in residuelist:\n",
    "        if 'CA' in res:\n",
    "            alphanum = alphanum+1\n",
    "            #print([res['CA'].coord])\n",
    "            #print(coords)\n",
    "            coords = np.concatenate((coords,[res['CA'].coord]),axis =0)\n",
    "    distances = np.zeros((alphanum,alphanum),np.float)\n",
    "    for i in range(0,alphanum):\n",
    "        for j in range(0, alphanum):\n",
    "            coords1 = coords[i,:]\n",
    "            coords2 = coords[j,:]\n",
    "            distances[i,j] = calc_residue_dist(coords1, coords2)\n",
    "    return distances, coords\n",
    "\n",
    "#print(1 for i in residuelist)\n",
    "t, coords = calc_dist_matrix(model)\n",
    "print(np.size(coords))\n",
    "#print(coords)\n",
    "#print(np.size(t))\n",
    "\n",
    "\n",
    "\n",
    "\n",
    "\n",
    "#np.savetxt('HLA_A2_1_dist.csv', t, delimiter=',')\n",
    "#np.savetxt('HLA_B5_801_dist.csv', t, delimiter=',')\n",
    "np.savetxt('HLA_B5_701_dist.csv', t, delimiter=',')\n",
    "#for t in residuelist:\n",
    "#    print(t)\n",
    "\n",
    "    "
   ]
  },
  {
   "cell_type": "code",
   "execution_count": null,
   "metadata": {
    "collapsed": false
   },
   "outputs": [],
   "source": []
  },
  {
   "cell_type": "code",
   "execution_count": null,
   "metadata": {
    "collapsed": false
   },
   "outputs": [],
   "source": [
    "\n"
   ]
  },
  {
   "cell_type": "code",
   "execution_count": null,
   "metadata": {
    "collapsed": true
   },
   "outputs": [],
   "source": []
  }
 ],
 "metadata": {
  "anaconda-cloud": {},
  "kernelspec": {
   "display_name": "Python [conda root]",
   "language": "python",
   "name": "conda-root-py"
  },
  "language_info": {
   "codemirror_mode": {
    "name": "ipython",
    "version": 3
   },
   "file_extension": ".py",
   "mimetype": "text/x-python",
   "name": "python",
   "nbconvert_exporter": "python",
   "pygments_lexer": "ipython3",
   "version": "3.5.2"
  }
 },
 "nbformat": 4,
 "nbformat_minor": 1
}
