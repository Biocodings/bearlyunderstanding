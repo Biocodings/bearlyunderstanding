{
 "cells": [
  {
   "cell_type": "code",
   "execution_count": 137,
   "metadata": {
    "collapsed": false
   },
   "outputs": [],
   "source": [
    "import tensorflow as tf\n",
    "import numpy as np\n",
    "import csv\n",
    "import pandas as pd\n",
    "from sklearn.cross_validation import KFold\n",
    "\n",
    "if 'session' in locals() and session is not None:\n",
    "    print('Close interactive session')\n",
    "    session.close()\n",
    "    \n",
    "\n",
    "DATA      = r'C:\\Users\\Ekpyrotic\\Documents\\Tensorflow stuff\\binding affinity predictor\\one_hot_encoded_dat.csv'\n",
    "HLA_distances  = r'C:\\Users\\Ekpyrotic\\Documents\\Tensorflow stuff\\binding affinity predictor\\crystal structures\\HLAdistmatrix.csv'\n",
    "HLA_dist = np.genfromtxt(HLA_distances, delimiter=',')\n",
    "#1: HLA-A*:0201\n",
    "#2: HLA-B*58:01\n",
    "#3: HLA-B*57:01\n",
    "\n",
    "newrows   = []\n",
    "with open(DATA) as csvfile:\n",
    "    i = 0\n",
    "    filereader = csv.reader(csvfile)\n",
    "    for row in filereader:\n",
    "        newrow = row\n",
    "        if row[0] == 'HLA-A*02:01':\n",
    "            i = i + 1\n",
    "            newrow[181] = HLA_dist[0,0]\n",
    "        elif row[0] == 'HLA-B*57:01':\n",
    "            newrow[181] = HLA_dist[1,0]\n",
    "        elif row[0] == 'HLA-B*57:01':\n",
    "            newrow[181] = HLA_dist[2,0]\n",
    "        else:\n",
    "            newrow = []         #get rid of other HLA types\n",
    "            #newrow[181] = 999   #keep other HLA type rows\n",
    "        if newrow:\n",
    "            newrows.append(newrow)\n",
    "\n",
    "j = int(np.floor(i/5))\n",
    "\n",
    "#column 0: HLA type\n",
    "#column 1-181: one hot encoding of aa values\n",
    "#column 182: HLA PH distance calc\n",
    "#column 183: observed binding affinity\n",
    "\n",
    "arrayform = np.asarray(newrows)\n",
    "train     = arrayform[j:,1:].astype(np.float)\n",
    "train_x   =  train[:, 0:180]\n",
    "train_y   =  train[:,181]\n",
    "\n",
    "test      = arrayform[0:j,1:].astype(np.float)\n",
    "test_set_data   =  test[:, 0:180]\n",
    "test_set_target =  test[:,181]\n",
    "\n",
    "\n",
    "np.random.shuffle(cleandat)\n",
    "folds = KFold(train_x.shape[0], n_folds= 10)\n",
    "foldvals = list(folds)\n",
    "\n",
    "\n",
    "def get_train_inputs(i):\n",
    "    train, test = foldvals[i]\n",
    "    x = tf.constant(train_x[train,:-1])\n",
    "    y = tf.constant(train_y[train])\n",
    "    #y = tf.transpose(y)\n",
    "    return x, y\n",
    "\n",
    "def get_test_inputs():\n",
    "    x = tf.constant(test_set_data[:,:-1])\n",
    "    y = tf.constant(test_set_target)\n",
    "    return x, y\n",
    "\n"
   ]
  },
  {
   "cell_type": "code",
   "execution_count": null,
   "metadata": {
    "collapsed": false
   },
   "outputs": [],
   "source": [
    "#train, test = foldvals[0]\n",
    "#print(train)\n",
    "print(train.shape)\n",
    "print(train_x.shape[0])"
   ]
  },
  {
   "cell_type": "code",
   "execution_count": null,
   "metadata": {
    "collapsed": false
   },
   "outputs": [],
   "source": [
    "#MODEL ONE: NO TOPOLOGY \n",
    "\n",
    "\n",
    "features = [tf.contrib.layers.real_valued_column(\"\",dimension = 180)]       #9mer data + distance from HLA a0201 \n",
    "print(get_train_inputs())\n",
    "print(features)\n",
    "\n",
    "classifier = tf.contrib.learn.DNNRegressor(hidden_units = [20,10,10],feature_columns=features,\n",
    "                                            optimizer=tf.train.AdamOptimizer,\n",
    "                                            #l2_regularization_strength=0.001,\n",
    "                                            #model_dir='/tmp/mhc_model'\n",
    "                                            )\n",
    "\n",
    "\n",
    "classifier.fit(input_fn = get_train_inputs, steps = 2000)\n",
    "#classifier.fit(x=training_set_data, y=training_set_target, steps=20)\n",
    "#classifier.fit(x=training_set_data, y=training_set_target, steps=1000)\n",
    "\n"
   ]
  },
  {
   "cell_type": "code",
   "execution_count": null,
   "metadata": {
    "collapsed": true
   },
   "outputs": [],
   "source": [
    "#MODEL ONE: NO TOPOLOGY\n",
    "\n",
    "accuracy_score = classifier.evaluate(input_fn=get_test_inputs,\n",
    "                                     steps=100)[\"accuracy\"]\n",
    "\n",
    "print(\"\\nTest Accuracy: {0:f}\\n\".format(accuracy_score))\n"
   ]
  },
  {
   "cell_type": "code",
   "execution_count": 138,
   "metadata": {
    "collapsed": false
   },
   "outputs": [
    {
     "name": "stdout",
     "output_type": "stream",
     "text": [
      "1\n",
      "2\n",
      "3\n",
      "4\n",
      "5\n",
      "6\n",
      "7\n",
      "8\n",
      "9\n",
      "\n",
      "Test MSE: 3108181632.000000\n",
      "\n"
     ]
    }
   ],
   "source": [
    "#MODEL TWO: TOPOLOGY\n",
    "\n",
    "#features = [tf.contrib.layers.real_valued_column(\"\",dimension = 181)]       #9mer data + distance from HLA a0201 \n",
    "features = [tf.contrib.layers.real_valued_column(\"\",dimension = 180)] \n",
    "#print(get_train_inputs())\n",
    "#print(features)\n",
    "accuracy_score = np.zeros(10)  \n",
    "tf.logging.set_verbosity(tf.logging.ERROR)\n",
    "\n",
    "for i in range(1,10):\n",
    "    classifier = tf.contrib.learn.DNNRegressor(hidden_units = [20,10,10],feature_columns=features,\n",
    "                                            optimizer=tf.train.ProximalAdagradOptimizer(\n",
    "                                            learning_rate=0.01,\n",
    "                                            l1_regularization_strength=0.001),\n",
    "                                            )\n",
    "\n",
    "    classifier.fit(input_fn = lambda:get_train_inputs(i), steps = 200)\n",
    "    accuracy_score[i] = classifier.evaluate(input_fn=get_test_inputs,steps = 50)['loss']\n",
    "    print(i)\n",
    "\n",
    "#classifier.fit(x=training_set_data, y=training_set_target, steps=20)\n",
    "#classifier.fit(x=training_set_data, y=training_set_target, steps=1000)\n",
    "#evaluate\n",
    "\n",
    "\n",
    "print(\"\\nTest MSE: {0:f}\\n\".format(np.average(accuracy_score)))\n",
    "\n"
   ]
  },
  {
   "cell_type": "code",
   "execution_count": 130,
   "metadata": {
    "collapsed": false
   },
   "outputs": [
    {
     "data": {
      "text/plain": [
       "{'global_step': 20, 'loss': 3.4737761e+09}"
      ]
     },
     "execution_count": 130,
     "metadata": {},
     "output_type": "execute_result"
    }
   ],
   "source": [
    "classifier.evaluate(input_fn=get_test_inputs,steps = 20)\n"
   ]
  },
  {
   "cell_type": "code",
   "execution_count": null,
   "metadata": {
    "collapsed": true
   },
   "outputs": [],
   "source": []
  }
 ],
 "metadata": {
  "anaconda-cloud": {},
  "kernelspec": {
   "display_name": "Python [conda root]",
   "language": "python",
   "name": "conda-root-py"
  },
  "language_info": {
   "codemirror_mode": {
    "name": "ipython",
    "version": 3
   },
   "file_extension": ".py",
   "mimetype": "text/x-python",
   "name": "python",
   "nbconvert_exporter": "python",
   "pygments_lexer": "ipython3",
   "version": "3.5.2"
  }
 },
 "nbformat": 4,
 "nbformat_minor": 1
}
